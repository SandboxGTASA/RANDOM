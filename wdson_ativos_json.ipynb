{
  "nbformat": 4,
  "nbformat_minor": 0,
  "metadata": {
    "colab": {
      "name": "wdson ativos - json.ipynb",
      "provenance": [],
      "collapsed_sections": [],
      "authorship_tag": "ABX9TyMOuifIYzHCDS6O80+/NJW8",
      "include_colab_link": true
    },
    "kernelspec": {
      "name": "python3",
      "display_name": "Python 3"
    },
    "language_info": {
      "name": "python"
    }
  },
  "cells": [
    {
      "cell_type": "markdown",
      "metadata": {
        "id": "view-in-github",
        "colab_type": "text"
      },
      "source": [
        "<a href=\"https://colab.research.google.com/github/SandboxGTASA/RANDOM/blob/main/wdson_ativos_json.ipynb\" target=\"_parent\"><img src=\"https://colab.research.google.com/assets/colab-badge.svg\" alt=\"Open In Colab\"/></a>"
      ]
    },
    {
      "cell_type": "code",
      "metadata": {
        "id": "WDo_jePD7VMx"
      },
      "source": [
        "\n",
        "with open('ativos.json','r',encoding='utf-8') as dados:dados = eval(eval(dados.read()))\n",
        "\n",
        "\n",
        "dados_dict = []\n",
        "for d in dados['Binary']: \n",
        "\tativo = {'ativo':d}\n",
        "\thora = {'horarios': []}\n",
        "\tfor data in dados['Binary'][d]:\n",
        "\t\thora['horarios'].append({data['dia']:data['hora']})\n",
        "\tdados_dict.append({**ativo,**hora})\n",
        "\n",
        "\n",
        "dict_days =     [{\n",
        "                \"0\": []\n",
        "            },\n",
        "            {\n",
        "                \"1\": []\n",
        "            },\n",
        "            {\n",
        "                \"2\": []\n",
        "            },\n",
        "            {\n",
        "                \"3\": []\n",
        "            },\n",
        "            {\n",
        "                \"4\": []\n",
        "            },\n",
        "            {\n",
        "                \"5\": []\n",
        "            },\n",
        "            {\n",
        "                \"6\": []\n",
        "            }]\n",
        "\n",
        "\n"
      ],
      "execution_count": 1,
      "outputs": []
    },
    {
      "cell_type": "code",
      "metadata": {
        "colab": {
          "base_uri": "https://localhost:8080/"
        },
        "id": "cgbfXXuW7jkl",
        "outputId": "354492d1-fb1c-41c5-daea-8fac1885bffa"
      },
      "source": [
        "final_ativos = []\n",
        "\n",
        "for d in dados_dict:\n",
        "  for hr in d['horarios'] :\n",
        "    print(hr.keys())\n",
        "    print(list(hr.keys()))\n",
        "    print(list(hr.keys())[0].split(','))\n",
        "    print('-'*25)\n",
        "    break\n",
        "  break"
      ],
      "execution_count": 5,
      "outputs": [
        {
          "output_type": "stream",
          "text": [
            "dict_keys(['0,1,2,3'])\n",
            "['0,1,2,3']\n",
            "['0', '1', '2', '3']\n",
            "-------------------------\n"
          ],
          "name": "stdout"
        }
      ]
    },
    {
      "cell_type": "code",
      "metadata": {
        "id": "oiBJJ4Ip7jnW"
      },
      "source": [
        ""
      ],
      "execution_count": null,
      "outputs": []
    },
    {
      "cell_type": "code",
      "metadata": {
        "id": "5nGsvLl07jqE"
      },
      "source": [
        ""
      ],
      "execution_count": null,
      "outputs": []
    },
    {
      "cell_type": "code",
      "metadata": {
        "id": "gF1QMIwC7jsp"
      },
      "source": [
        ""
      ],
      "execution_count": null,
      "outputs": []
    },
    {
      "cell_type": "code",
      "metadata": {
        "id": "fZddVNoc7ju2"
      },
      "source": [
        ""
      ],
      "execution_count": null,
      "outputs": []
    },
    {
      "cell_type": "code",
      "metadata": {
        "id": "mkudglvy7jxu"
      },
      "source": [
        "\n",
        "# aberto = {\"aber\": \"\", \"fech\": \"\"}\n",
        "\n",
        "\n",
        "# final_ativos = []\n",
        "\n",
        "# for d in dados_dict:\n",
        "# \tfor hr in d['horarios'] :\n",
        "# \t\t\tprint(hr.keys())\n",
        "# \t\t\tprint(list(hr.keys()))\n",
        "# \t\t\tprint(list(hr.keys())[0].split(','))\n",
        "# \t\t\tprint('-'*25)\n",
        "# \t\t\tif ',' in list(hr.keys())[0]:\n",
        "# \t\t\t\tfor div in list(hr.keys())[0].split(','):\n",
        "# \t\t\t\t\tfinal_ativos.append({final_ativos[div].append(hr.values)})"
      ],
      "execution_count": null,
      "outputs": []
    }
  ]
}